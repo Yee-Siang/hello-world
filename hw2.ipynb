{
 "cells": [
  {
   "cell_type": "markdown",
   "metadata": {},
   "source": [
    "# 108-1 Computer Programming HW2\n",
    "\n",
    "#### We have 2 topics for this homework:\n",
    "\n",
    "1. Sorting Algorithms\n",
    "    1. Bubble Sort\n",
    "    2. Insertion Sort\n",
    "    3. Merge Sort\n",
    "    4. Quick Sort\n",
    "    5. Temperature Analysis\n",
    "    6. Best trading strategy\n",
    "2. Towers of Hanoi\n",
    "    1. Recursive Solution\n",
    "    2. Iterative Solution"
   ]
  },
  {
   "cell_type": "markdown",
   "metadata": {},
   "source": [
    "## Part 1. Sorting\n",
    "\n",
    "Just like what you did on classes.\n",
    "\n",
    "In this part, you will write some functions like:\n",
    "\n",
    "    def XXX_sort(L)\n",
    "\n",
    "that, takes a list of integers `L` and return a re-orderd list `L_sorted` in which elements are in ascending order.\n",
    "\n",
    "For example:\n",
    "* XXX_sort( \\[ 2, 3, 1 \\] ) should return \\[ 1, 2, 3 \\]\n",
    "* XXX_sort( \\[ 8, 3, 2, 5, 7, 2, 3 \\] ) should return \\[ 2, 2, 3, 3, 5, 7, 8 \\]"
   ]
  },
  {
   "cell_type": "markdown",
   "metadata": {},
   "source": [
    "### <span style=\"color:red\">Q1_1:</span> Bubble Sort\n",
    "\n",
    "Please write the sorting function:\n",
    "\n",
    "    bubble_sort(L)\n",
    "\n",
    "with bubble sort algorithm discribed in lectures.\n",
    "\n"
   ]
  },
  {
   "cell_type": "code",
   "execution_count": 64,
   "metadata": {},
   "outputs": [
    {
     "name": "stdout",
     "output_type": "stream",
     "text": [
      "[1, 2, 3, 4, 5, 7, 8, 10]\n"
     ]
    }
   ],
   "source": [
    "# Q1_1\n",
    "\n",
    "def bubble_sort(L):\n",
    "    # write your code here\n",
    "    # remember to remove the `pass` statement\n",
    "    n=len(L)\n",
    "    r=n-1\n",
    "    while r>0:\n",
    "        for i in range(r):\n",
    "            if L[i]>L[i+1]:\n",
    "                L[i],L[i+1] = L[i+1],L[i]\n",
    "        r-=1\n",
    "    return L\n",
    "\n",
    "print(bubble_sort([ 5, 3, 2, 1, 4, 10, 8, 7 ]))"
   ]
  },
  {
   "cell_type": "markdown",
   "metadata": {},
   "source": [
    "### <span style=\"color:red\">Q1_2</span> Bubble Sort: Step-by-Step\n",
    "Please write the sorting function:\n",
    "\n",
    "    bubble_sort_print(L)\n",
    "    \n",
    "**that prints out the value of temporary results step-by-step when it's sorting.**\n",
    "\n",
    "For the sample input `[ 5, 3, 2, 1, 4, 10, 8, 7 ]`, it will be like:\n",
    "\n",
    "[3, 2, 5, 1, 4, 10, 8, 7] <br>\n",
    "[3, 2, 1, 5, 4, 10, 8, 7] <br>\n",
    "... (many times)<br> \n",
    "[1, 2, 3, 4, 5, 7, 8, 10]\n"
   ]
  },
  {
   "cell_type": "code",
   "execution_count": 65,
   "metadata": {},
   "outputs": [
    {
     "name": "stdout",
     "output_type": "stream",
     "text": [
      "[3, 5, 2, 1, 4, 10, 8, 7]\n",
      "[3, 2, 5, 1, 4, 10, 8, 7]\n",
      "[3, 2, 1, 5, 4, 10, 8, 7]\n",
      "[3, 2, 1, 4, 5, 10, 8, 7]\n",
      "[3, 2, 1, 4, 5, 8, 10, 7]\n",
      "[3, 2, 1, 4, 5, 8, 7, 10]\n",
      "[2, 3, 1, 4, 5, 8, 7, 10]\n",
      "[2, 1, 3, 4, 5, 8, 7, 10]\n",
      "[2, 1, 3, 4, 5, 7, 8, 10]\n",
      "[1, 2, 3, 4, 5, 7, 8, 10]\n",
      "[1, 2, 3, 4, 5, 7, 8, 10]\n",
      "None\n"
     ]
    }
   ],
   "source": [
    "# Q1_2\n",
    "def bubble_sort_print(L):\n",
    "    n=len(L)\n",
    "    r=n-1\n",
    "    while r>0:\n",
    "        for i in range(r):\n",
    "            if L[i]>L[i+1]:\n",
    "                L[i],L[i+1] = L[i+1],L[i]\n",
    "                print(L)\n",
    "        r-=1\n",
    "    print(L)\n",
    "\n",
    "\n",
    "print(bubble_sort_print([ 5, 3, 2, 1, 4, 10, 8, 7 ]))"
   ]
  },
  {
   "cell_type": "markdown",
   "metadata": {},
   "source": [
    "### <span style=\"color:red\">Q2_1:</span> Insertion Sort\n",
    "\n",
    "Let's try another simple approach called `Insertion Sort`.\n",
    "\n",
    "Watch following video first:\n",
    "\n",
    "<video style=\"width:80%;margin-top:32px;margin-left:10%;\" controls src=\"videos/insertion_sort.mp4\"/>"
   ]
  },
  {
   "cell_type": "markdown",
   "metadata": {},
   "source": [
    "#### Idea: How do you sort your cards in a poker game?\n",
    "\n",
    "<img width=\"30%\" src=\"figures/poker.jpg\">\n",
    "\n",
    "What is Insertion Sort?\n",
    "\n",
    "Insertion sort iterates, consuming one input element each repetition, and growing a sorted output list. <br>\n",
    "At each iteration, insertion sort removes one element from the input data, finds the location it belongs within the sorted list, and inserts it there.<br> \n",
    "It repeats until no input elements remain.(from wikipedia)\n",
    "\n",
    "<img width=\"60%\" src=\"figures/insertion_sort_example.gif\">\n",
    "\n",
    "### Procedure:\n",
    "1. Divide the input list with two part: sorted and unsorted.\n",
    "2. Get one element in unsorted part.\n",
    "3. Place the picked element in correct position in sorted part.\n",
    "4. Repeat 2,3 until unsorted part is empty.\n",
    "\n",
    "Now, please write the sorting function:\n",
    "\n",
    "    insertion_sort(L)\n",
    "\n",
    "with insertion sort algorithm discribed above."
   ]
  },
  {
   "cell_type": "code",
   "execution_count": 66,
   "metadata": {},
   "outputs": [
    {
     "name": "stdout",
     "output_type": "stream",
     "text": [
      "[1, 2, 3, 4, 5, 7, 8, 10]\n"
     ]
    }
   ],
   "source": [
    "# Q2_1\n",
    "def insertion_sort(L):\n",
    "    # write your code here\n",
    "    # remember to remove the `pass` statement\n",
    "    n=len(L)\n",
    "    for i in range(1,n):\n",
    "        j=i\n",
    "        while j >= 1:\n",
    "            if L[j] < L[j-1]:\n",
    "                L[j], L[j-1] = L[j-1], L[j]\n",
    "            j-=1\n",
    "    return L\n",
    "\n",
    "print(insertion_sort([ 5, 3, 2, 1, 4, 10, 8, 7 ]))"
   ]
  },
  {
   "cell_type": "markdown",
   "metadata": {},
   "source": [
    "### <span style=\"color:red\">Q2_2</span> Insertion Sort: Step-by-Step\n",
    "\n",
    "Please write the sorting function:\n",
    "\n",
    "    insertion_sort_print(L)\n",
    "    \n",
    "**that prints out the value of temporary results step-by-step when it's sorting.**\n",
    "\n",
    "**You only need to print the `sorted part`**\n",
    "\n",
    "For the sample input `[ 5, 3, 2, 1, 4, 10, 8, 7 ]`, it will be like:\n",
    "\n",
    "[5]<br> \n",
    "[3, 5]<br> \n",
    "[2, 3, 5]<br> \n",
    "... (many times)<br> \n",
    "[1, 2, 3, 4, 5, 7, 8, 10]"
   ]
  },
  {
   "cell_type": "code",
   "execution_count": 67,
   "metadata": {},
   "outputs": [
    {
     "name": "stdout",
     "output_type": "stream",
     "text": [
      "[1, 2, 3, 4, 5, 7, 8, 10]\n",
      "[3, 5]\n",
      "[3, 2, 5]\n",
      "[2, 3, 5]\n",
      "[2, 3, 1, 5]\n",
      "[2, 1, 3, 5]\n",
      "[1, 2, 3, 5]\n",
      "[1, 2, 3, 4, 5]\n",
      "[1, 2, 3, 4, 5, 8, 10]\n",
      "[1, 2, 3, 4, 5, 8, 7, 10]\n",
      "[1, 2, 3, 4, 5, 7, 8, 10]\n",
      "[1, 2, 3, 4, 5, 7, 8, 10]\n"
     ]
    }
   ],
   "source": [
    "# Q2_2\n",
    "def insertion_sort_print(L):\n",
    "    n=len(L)\n",
    "    for i in range(1,n):\n",
    "        j=i\n",
    "        while j >= 1:\n",
    "            if L[j] < L[j-1]:\n",
    "                L[j], L[j-1] = L[j-1], L[j]\n",
    "                print(L[:i+1])\n",
    "            j-=1\n",
    "    return L\n",
    "\n",
    "print(insertion_sort([ 5, 3, 2, 1, 4, 10, 8, 7 ]))\n",
    "print(insertion_sort_print([ 5, 3, 2, 1, 4, 10, 8, 7 ]))"
   ]
  },
  {
   "cell_type": "markdown",
   "metadata": {},
   "source": [
    "### <span style=\"color:red\">Q3:</span> Merge Sort\n"
   ]
  },
  {
   "cell_type": "markdown",
   "metadata": {},
   "source": [
    "This is the algorithm in our course material which is not covered in class. To understand it, lets look at an example first: (from wikipedia)\n",
    "\n",
    "<img width=\"60%\" src=\"figures/merge_sort_example.gif\"/>\n",
    "\n",
    "\n",
    "### Idea: Divide and Conquer\n",
    "\n",
    "* *Divide* problem into smaller subproblems\n",
    "    * Recursive case: solve recursively when subproblems are still large\n",
    "* *Conquer* subproblems by solving them recursively\n",
    "    * Base case: when subproblems are small or trivial, solve it by brute force\n",
    "* *Merge* subproblem solutions to total solution"
   ]
  },
  {
   "cell_type": "markdown",
   "metadata": {},
   "source": [
    "### Procedure:\n",
    "1. Divide the array into left and right halves\n",
    "2. Sort each halves with recursive call\n",
    "3. Merge the 2 ordered list together\n",
    "\n",
    "#### Keypoint: you can assume the left-part and right-part are already sorted by recursive calling. Then figure out the result of L based on the sorted subparts.\n",
    "\n",
    "<img width=\"80%\" src=\"figures/merge_sort.png\"/>"
   ]
  },
  {
   "cell_type": "markdown",
   "metadata": {},
   "source": [
    "\n",
    "Please write the sorting function:\n",
    "\n",
    "    merge_sort(L)\n",
    "\n",
    "with merge sort algorithm discribed above."
   ]
  },
  {
   "cell_type": "code",
   "execution_count": 2,
   "metadata": {},
   "outputs": [
    {
     "name": "stdout",
     "output_type": "stream",
     "text": [
      "[1, 2, 3, 4, 5, 7, 8, 10]\n"
     ]
    }
   ],
   "source": [
    "# Q3_1\n",
    "def merge(L1, L2):\n",
    "    # merge 2 sorted lists into 1\n",
    "    m=len(L1)\n",
    "    n=len(L2)\n",
    "    Output=[]\n",
    "    for i in range(m):\n",
    "        j=0\n",
    "        while j < len(L2) and L1[i] >= L2[j]:\n",
    "            Output.append(L2[j])\n",
    "            j+=1\n",
    "        L2=L2[j:]\n",
    "        Output.append(L1[i])\n",
    "        \n",
    "    if len(L2) > 0:\n",
    "        Output+=L2\n",
    "    return Output\n",
    "\n",
    "def merge_sort(L):\n",
    "    # recursive call merge_sort() to sort sublists\n",
    "    # then merge() sublists\n",
    "    if len(L) <= 1:\n",
    "        return L\n",
    "    if len(L) ==2:\n",
    "        return merge([L[0]],[L[1]])\n",
    "    else:\n",
    "        return merge(merge_sort(L[0:len(L)//2]),merge_sort(L[len(L)//2:]))\n",
    "\n",
    "print(merge_sort([ 5, 3, 2, 1, 4, 10, 8, 7 ]))"
   ]
  },
  {
   "cell_type": "markdown",
   "metadata": {},
   "source": [
    "### <span style=\"color:red\">Q3_2</span> Merge Sort: Step-by-Step\n",
    "Please write the sorting function:\n",
    "    \n",
    "    merge_sort_print(L)\n",
    "    \n",
    "**that prints out the value of already-merged part when it's sorting.**\n",
    "\n",
    "It will be like:\n",
    "\n",
    "\n",
    "[3, 5]<br> \n",
    "[1, 2]<br> \n",
    "[1, 2, 3, 5]<br> \n",
    "...<br> \n",
    "[1, 2, 3, 4, 5, 7, 8, 10]<br> "
   ]
  },
  {
   "cell_type": "code",
   "execution_count": 69,
   "metadata": {},
   "outputs": [
    {
     "name": "stdout",
     "output_type": "stream",
     "text": [
      "[3, 5]\n",
      "[1, 2]\n",
      "[1, 2, 3, 5]\n",
      "[4, 10]\n",
      "[7, 8]\n",
      "[4, 7, 8, 10]\n",
      "[1, 2, 3, 4, 5, 7, 8, 10]\n",
      "[1, 2, 3, 4, 5, 7, 8, 10]\n"
     ]
    }
   ],
   "source": [
    "# Q3_2\n",
    "def merge_and_print(L1, L2):\n",
    "    # merge 2 sorted lists into 1\n",
    "    m=len(L1)\n",
    "    n=len(L2)\n",
    "    Output=[]\n",
    "    for i in range(m):\n",
    "        j=0\n",
    "        while j < len(L2) and L1[i] >= L2[j]:\n",
    "            Output.append(L2[j])\n",
    "            j+=1\n",
    "        L2=L2[j:]\n",
    "        Output.append(L1[i])\n",
    "        \n",
    "    if len(L2) > 0:\n",
    "        Output+=L2\n",
    "    print(Output)\n",
    "    return Output\n",
    "def merge_sort_print(L):\n",
    "    # you can call merge() in Q3_1\n",
    "    if len(L) <= 1:\n",
    "        print(L)\n",
    "        return L\n",
    "    if len(L) ==2:\n",
    "        \n",
    "        return merge_and_print([L[0]],[L[1]])\n",
    "    else:\n",
    "       \n",
    "        return merge_and_print(merge_sort_print(L[0:len(L)//2]),merge_sort_print(L[len(L)//2:]))\n",
    "\n",
    "print(merge_sort_print([ 5, 3, 2, 1, 4, 10, 8, 7 ]))"
   ]
  },
  {
   "cell_type": "markdown",
   "metadata": {},
   "source": [
    "### <span style=\"color:red\">Q4</span> Quicksort\n",
    "\n",
    "This is what we have gone through in class. If you are still not familiar with the procedure, you can:\n",
    "\n",
    "* Take a look at Week7's course slide on CEIBA\n",
    "* Watch following video:\n",
    "\n",
    "<video style=\"width:80%;margin-top:32px;margin-left:10%;\" controls src=\"videos/quick_sort.mp4\"/>"
   ]
  },
  {
   "cell_type": "markdown",
   "metadata": {},
   "source": [
    "Please write the sorting function:\n",
    "\n",
    "    quicksort(L)\n",
    "\n",
    "with quicksort algorithm discribed above."
   ]
  },
  {
   "cell_type": "code",
   "execution_count": 70,
   "metadata": {},
   "outputs": [
    {
     "name": "stdout",
     "output_type": "stream",
     "text": [
      "[1, 2, 3, 4, 5, 7, 8, 10]\n"
     ]
    }
   ],
   "source": [
    "# Q4\n",
    "\n",
    "def quicksort(L):\n",
    "    if len(L) <=1:\n",
    "        return L\n",
    "    else:\n",
    "        L1=[]\n",
    "        L2=[]\n",
    "        for i in range(1,len(L)):\n",
    "            if L[i] < L[0]:\n",
    "                L1.append(L[i])\n",
    "            else:\n",
    "                L2.append(L[i])\n",
    "        return quicksort(L1) + [L[0]] + quicksort(L2)\n",
    "            \n",
    "\n",
    "print(quicksort([ 5, 3, 2, 1, 4, 10, 8, 7 ]))"
   ]
  },
  {
   "cell_type": "markdown",
   "metadata": {},
   "source": [
    "### <span style=\"color:red\">Q5_1</span> Performance Test\n",
    "\n",
    "After we finish these ways to sort, we can compare them by running time.\n",
    "\n",
    "First, we generate random testcases to test our functions.\n"
   ]
  },
  {
   "cell_type": "code",
   "execution_count": 71,
   "metadata": {},
   "outputs": [
    {
     "name": "stdout",
     "output_type": "stream",
     "text": [
      "bubble_sort_time:  0.8502528667449951\n"
     ]
    }
   ],
   "source": [
    "import numpy as np\n",
    "import time\n",
    "\n",
    "np.random.seed(0)\n",
    "random_numbers = np.random.randint(0,2000,2000)\n",
    "\n",
    "bubble_time_start = time.time()\n",
    "bubble_sort(random_numbers)\n",
    "bubble_time_finish = time.time()\n",
    "print('bubble_sort_time: ', (bubble_time_finish - bubble_time_start))"
   ]
  },
  {
   "cell_type": "markdown",
   "metadata": {},
   "source": [
    "Use the way above to print the time that each algorithm costs.\n",
    "\n",
    "You should print out exactly 4 numbers, describing the time costed by:\n",
    "\n",
    "* bubble_sort\n",
    "* insertion_sort\n",
    "* merge_sort\n",
    "* quicksort\n",
    "    \n",
    ", respectively.\n",
    "\n",
    "Also, print out the order from fast to slow, such as:\n",
    "\n",
    "    Time Consumed: a_sort < b_sort < c_sort < d_sort"
   ]
  },
  {
   "cell_type": "code",
   "execution_count": 72,
   "metadata": {},
   "outputs": [
    {
     "name": "stdout",
     "output_type": "stream",
     "text": [
      "bubble_sort_time: 0.8818955421447754\n",
      "insertion_sort_time: 0.5634298324584961\n",
      "merge_sort_time: 0.03597211837768555\n",
      "quicksort_time: 0.8433549404144287\n",
      "Time Consumed: merge_sort < insertion_sort < quick_sort < bubble_sort\n"
     ]
    }
   ],
   "source": [
    "# Q5_1\n",
    "dic={}\n",
    "np.random.seed(0)\n",
    "random_numbers=np.random.randint(0,2000,2000)\n",
    "bubble_start = time.time()\n",
    "bubble_sort(random_numbers)\n",
    "bubble_finish = time.time()\n",
    "bubble_sort_time = bubble_finish - bubble_start\n",
    "dic[bubble_sort_time]=\"bubble_sort\"\n",
    "insertion_start = time.time()\n",
    "insertion_sort(random_numbers)\n",
    "insertion_finish= time.time()\n",
    "insertion_sort_time = insertion_finish - insertion_start\n",
    "dic[insertion_sort_time] = \"insertion_sort\"\n",
    "merge_start = time.time()\n",
    "merge_sort(random_numbers)\n",
    "merge_finish = time.time()\n",
    "merge_sort_time = merge_finish - merge_start\n",
    "dic[merge_sort_time] = \"merge_sort\"\n",
    "quick_start = time.time()\n",
    "quicksort(random_numbers)\n",
    "quick_finish = time.time()\n",
    "quicksort_time = quick_finish - quick_start\n",
    "dic[quicksort_time] = \"quick_sort\"\n",
    "print(\"bubble_sort_time:\",bubble_sort_time)\n",
    "print(\"insertion_sort_time:\",insertion_sort_time)\n",
    "print(\"merge_sort_time:\",merge_sort_time)\n",
    "print(\"quicksort_time:\",quicksort_time)\n",
    "compare = quicksort([bubble_sort_time,insertion_sort_time,merge_sort_time,quicksort_time])\n",
    "print(\"Time Consumed:\",dic[compare[0]],'<',dic[compare[1]],'<',dic[compare[2]],'<',dic[compare[3]])"
   ]
  },
  {
   "cell_type": "markdown",
   "metadata": {},
   "source": [
    "### <span style=\"color:red\">Q5_2</span> Performance Test: Sorted Case\n",
    "\n",
    "What if we use list of numbers that are **already sorted** to do the same test?"
   ]
  },
  {
   "cell_type": "code",
   "execution_count": 73,
   "metadata": {},
   "outputs": [
    {
     "name": "stdout",
     "output_type": "stream",
     "text": [
      "bubble_sort_time: 0.7847099304199219\n",
      "insertion_sort_time: 0.5060291290283203\n",
      "merge_sort_time: 0.009972333908081055\n",
      "quicksort_time: 0.27284789085388184\n",
      "Time Consumed: merge_sort < quick_sort < insertion_sort < bubble_sort\n"
     ]
    }
   ],
   "source": [
    "# Q5_2\n",
    "\n",
    "import numpy as np\n",
    "sorted_numbers = np.arange(0,2000)\n",
    "dic={}\n",
    "np.random.seed(0)\n",
    "random_numbers=np.random.randint(0,2000,2000)\n",
    "bubble_start = time.time()\n",
    "bubble_sort(random_numbers)\n",
    "bubble_finish = time.time()\n",
    "bubble_sort_time = bubble_finish - bubble_start\n",
    "dic[bubble_sort_time]=\"bubble_sort\"\n",
    "insertion_start = time.time()\n",
    "insertion_sort(random_numbers)\n",
    "insertion_finish= time.time()\n",
    "insertion_sort_time = insertion_finish - insertion_start\n",
    "dic[insertion_sort_time] = \"insertion_sort\"\n",
    "merge_start = time.time()\n",
    "merge_sort(random_numbers)\n",
    "merge_finish = time.time()\n",
    "merge_sort_time = merge_finish - merge_start\n",
    "dic[merge_sort_time] = \"merge_sort\"\n",
    "quick_start = time.time()\n",
    "quicksort(random_numbers)\n",
    "quick_finish = time.time()\n",
    "quicksort_time = quick_finish - quick_start\n",
    "dic[quicksort_time] = \"quick_sort\"\n",
    "print(\"bubble_sort_time:\",bubble_sort_time)\n",
    "print(\"insertion_sort_time:\",insertion_sort_time)\n",
    "print(\"merge_sort_time:\",merge_sort_time)\n",
    "print(\"quicksort_time:\",quicksort_time)\n",
    "compare = quicksort([bubble_sort_time,insertion_sort_time,merge_sort_time,quicksort_time])\n",
    "print(\"Time Consumed:\",dic[compare[0]],'<',dic[compare[1]],'<',dic[compare[2]],'<',dic[compare[3]])\n",
    "\n",
    "# Do the same thing as in Q5_1"
   ]
  },
  {
   "cell_type": "markdown",
   "metadata": {},
   "source": [
    "### <span style=\"color:red\">Q5_3 (Bonus)</span> Plot Results\n",
    "\n",
    "Please plot a figure of:\n",
    "    \n",
    "    x axis: np.arange(100,2000,100)\n",
    "    y axis: sorting time of each algorithm (bubble, insertion, merge and quick)\n",
    "\n",
    "For each `x` value, **randomly generate** a list of length `x` and sort it using the 4 algorithms\n",
    "    \n",
    "The figure should look like:\n",
    "\n",
    "<img width=\"40%\" src=\"figures/performance_plot.png\">"
   ]
  },
  {
   "cell_type": "code",
   "execution_count": 26,
   "metadata": {},
   "outputs": [
    {
     "data": {
      "image/png": "[encoded data removed]",
      "text/plain": [
       "<Figure size 432x288 with 1 Axes>"
      ]
     },
     "metadata": {
      "needs_background": "light"
     },
     "output_type": "display_data"
    }
   ],
   "source": [
    "# Q5_3 (Bonus)\n",
    "# Plot out the figure\n",
    "import matplotlib.pyplot as plt\n",
    "test=np.arange(100,2000,100)\n",
    "bubble=[]\n",
    "insertion=[]\n",
    "merging=[]\n",
    "quick=[]\n",
    "for number in test:\n",
    "    nums = np.random.randint(0,number,number)\n",
    "    bubble_start = time.time()\n",
    "    bubble_sort(nums)\n",
    "    bubble_finish = time.time()\n",
    "    bubble_sort_time = bubble_finish - bubble_start\n",
    "    bubble.append(bubble_sort_time)\n",
    "    insertion_start = time.time()\n",
    "    insertion_sort(nums)\n",
    "    insertion_finish= time.time()\n",
    "    insertion_sort_time = insertion_finish - insertion_start\n",
    "    insertion.append(insertion_sort_time)\n",
    "    merge_start = time.time()\n",
    "    merge_sort(nums)\n",
    "    merge_finish = time.time()\n",
    "    merge_sort_time = merge_finish - merge_start\n",
    "    merging.append(merge_sort_time)\n",
    "    quick_start = time.time()\n",
    "    quicksort(nums)\n",
    "    quick_finish = time.time()\n",
    "    quicksort_time = quick_finish - quick_start\n",
    "    quick.append(quicksort_time)\n",
    "plt.plot(test,bubble,\"y\",label=\"bubble\")\n",
    "plt.plot(test,insertion,\"b\",label=\"insertion\")\n",
    "plt.plot(test,merging,\"g\",label=\"merge\")\n",
    "plt.plot(test,quick,\"r\",label=\"quick\")\n",
    "plt.legend()\n",
    "plt.show()"
   ]
  },
  {
   "cell_type": "markdown",
   "metadata": {},
   "source": [
    "### <span style=\"color:red\">Q6_1</span> Temperature Analysis\n",
    "\n",
    "Give weather data with date and temperature\n",
    "\n",
    "Please plot a figure of:\n",
    "    \n",
    "    temperature trendline of given temperature data\n",
    "\n",
    "and print out the hottest and coldest three continuous day by average.\n",
    "\n",
    "Example\n",
    "\n",
    "Input:\n",
    "\n",
    "    (('10/23',23.5), ('10/24',24), ('10/25',22), ('10/26',25), \n",
    "    ('10/27',18), ('10/28',19), ('10/29',21), ('10/30', 27))\n",
    "\n",
    "Output: \n",
    "\n",
    "    hottest: 10/24 10/25 10/26\n",
    "    coldest: 10/27 10/28 10/29\n"
   ]
  },
  {
   "cell_type": "code",
   "execution_count": 40,
   "metadata": {},
   "outputs": [],
   "source": [
    "# Q6_1\n",
    "# Plot out the figure and print out the result\n",
    "def figure_and_result(tup):\n",
    "    date=[]\n",
    "    temp=[]\n",
    "    avg=[]\n",
    "    for data in tup:\n",
    "        date.append(data[0])\n",
    "        temp.append(data[1])\n",
    "    plt.title(\"temperature trendline of given temperature data\")\n",
    "    plt.plot(date,temp)\n",
    "    for i in range(len(temp)-2):\n",
    "        avg.append((temp[i]+temp[i+1]+temp[i+2])/3)\n",
    "    hot=max(avg)\n",
    "    cold=min(avg)\n",
    "    \n",
    "    print(\"hottest:\",date[avg.index(hot)],date[avg.index(hot)+1],date[avg.index(hot)+2])\n",
    "    print(\"coldest:\",date[avg.index(cold)],date[avg.index(cold)+1],date[avg.index(cold)+2])"
   ]
  },
  {
   "cell_type": "code",
   "execution_count": 41,
   "metadata": {},
   "outputs": [
    {
     "name": "stdout",
     "output_type": "stream",
     "text": [
      "hottest: 10/24 10/25 10/26\n",
      "coldest: 10/27 10/28 10/29\n"
     ]
    },
    {
     "data": {
      "image/png": "[encoded data removed]",
      "text/plain": [
       "<Figure size 432x288 with 1 Axes>"
      ]
     },
     "metadata": {
      "needs_background": "light"
     },
     "output_type": "display_data"
    }
   ],
   "source": [
    "figure_and_result((('10/23',23.5), ('10/24',24), ('10/25',22), ('10/26',25), \n",
    "('10/27',18), ('10/28',19), ('10/29',21), ('10/30', 27)))"
   ]
  },
  {
   "cell_type": "markdown",
   "metadata": {},
   "source": [
    "### <span style=\"color:red\">Q6_2</span> Best trading strategy\n",
    "\n",
    "Give stock data with date and price\n",
    "\n",
    "Please find out the best trading strategy:\n",
    "    \n",
    "    Print the top 3 profit and its buy day and sell day respectively.\n",
    "    \n",
    "Example\n",
    "\n",
    "Input:\n",
    "\n",
    "    (('10/23',822), ('10/24',831), ('10/25',841), ('10/26',825), \n",
    "    ('10/27',811), ('10/28',827), ('10/29',833), ('10/30', 837))\n",
    "    \n",
    "Output:\n",
    "\n",
    "    but day: 10/27 sell day: 10/30 profit: 25\n",
    "    but day: 10/23 sell day: 10/25 profit: 19\n",
    "    but day: 10/23 sell day: 10/30 profit: 15"
   ]
  },
  {
   "cell_type": "code",
   "execution_count": 62,
   "metadata": {},
   "outputs": [],
   "source": [
    "# Q6_2\n",
    "# Print out the result\n",
    "def best_trading_strategy(tup):\n",
    "    date=[]\n",
    "    price=[]\n",
    "    for data in tup:\n",
    "        date.append(data[0])\n",
    "        price.append(data[1])\n",
    "    difference=[]\n",
    "    compare=[]\n",
    "    for i in range(len(price)-1):\n",
    "        difference.append([])\n",
    "        for j in range(i+1,len(price)):\n",
    "            difference[i].append(price[j]-price[i])\n",
    "            compare.append(price[j]-price[i])\n",
    "    \n",
    "    bubble_sort(compare)\n",
    "    \n",
    "    for k in range(1,4):\n",
    "        for sublist in difference:\n",
    "            if compare[-k] in sublist:\n",
    "                print(\"buy day:\",date[difference.index(sublist)],end=\" \")\n",
    "                m=sublist.index(compare[-k]) +1\n",
    "                print(\"sell day:\",date[difference.index(sublist)+m],end=\" \")\n",
    "                print(\"prifit:\",compare[-k])"
   ]
  },
  {
   "cell_type": "code",
   "execution_count": 63,
   "metadata": {},
   "outputs": [
    {
     "name": "stdout",
     "output_type": "stream",
     "text": [
      "buy day: 10/27 sell day: 10/30 prifit: 26\n",
      "buy day: 10/27 sell day: 10/29 prifit: 22\n",
      "buy day: 10/23 sell day: 10/25 prifit: 19\n"
     ]
    }
   ],
   "source": [
    "best_trading_strategy((('10/23',822), ('10/24',831), ('10/25',841), ('10/26',825), \n",
    "('10/27',811), ('10/28',827), ('10/29',833), ('10/30', 837)))"
   ]
  },
  {
   "cell_type": "markdown",
   "metadata": {},
   "source": [
    "## Part 2. Towers of Hanoi\n",
    "\n",
    "### Problem Description\n",
    "\n",
    "The Towers of Hanoi is one of the most famous classic problems every budding computer scientist must grapple with. Legend has it that in a temple in the Far East, priests are attempting to move a stack of golden disks from one diamond peg to another:\n",
    "\n",
    "<img width=\"50%\" src=\"figures/tower_of_hanoi.png\"/>\n",
    "\n",
    "The initial stack has 64 disks threaded onto one peg and arranged from bottom to top by decreasing size. The priests are attempting to move the stack from one peg to another under the constraints that:\n",
    "\n",
    "1. Only three pegs are provided, with index 1,2,3.\n",
    "1. Exactly one disk is moved at a time.\n",
    "2. At no time may a larger disk be placed above a smaller disk.\n",
    "\n",
    "Supposedly, the world will end when the priests complete their task, so there is little incentive for us to facilitate their efforts, haha.\n",
    "\n",
    "Let’s assume that the priests are attempting to move the disks from peg1 to peg3. We wish to develop an algorithm that prints the precise sequence of peg-to-peg disk transfers.\n",
    "\n",
    "More precisely, we want to display the precise instructions for moving the disks from the starting peg to the destination peg, as samples below:\n",
    "\n",
    "#### Sample Output 1 (number of disks: 3)\n",
    "    1 -> 3\n",
    "    1 -> 2\n",
    "    3 -> 2\n",
    "    1 -> 3\n",
    "    2 -> 1\n",
    "    2 -> 3\n",
    "    1 -> 3\n",
    "#### Sample Output 2 (number of disks: 4)\n",
    "    \n",
    "    1 -> 2\n",
    "    1 -> 3\n",
    "    2 -> 3\n",
    "    1 -> 2\n",
    "    3 -> 1\n",
    "    3 -> 2\n",
    "    1 -> 2\n",
    "    1 -> 3\n",
    "    2 -> 3\n",
    "    2 -> 1\n",
    "    3 -> 1\n",
    "    2 -> 3\n",
    "    1 -> 2\n",
    "    1 -> 3\n",
    "    2 -> 3\n",
    "\n",
    "An animated solution of 6 disks is below. Can you observe some rules from it?\n",
    "\n",
    "<img width=\"50%\" src=\"figures/hanoi_6_animated.gif\"/>"
   ]
  },
  {
   "cell_type": "markdown",
   "metadata": {},
   "source": [
    "### <span style=\"color:red\">Q7_1</span>  Towers of Hanoi -- Recursive Version\n",
    "\n",
    "**The movemont of n disks can be simplify if we know how to move n-1 disks (hence, the recursion)**:\n",
    "    \n",
    "    a)\tMove n-1 disks from peg1 to peg2, using peg3 as a temporary holding area.\n",
    "    b)\tMove the last disk (the largest) from peg1 to peg3.\n",
    "    c)\tMove the n-1 disks from peg2 to peg3, using peg1 as a temporary holding area.\n",
    "    \n",
    "The process ends when the last task involves moving n = 1 disk (i.e., the base case). This task is accomplished by simply moving the disk, without the need for a temporary holding area.\n",
    "\n",
    "Please write a function:\n",
    "\n",
    "    hanoi_recursive(N)\n",
    "\n",
    "where N is the number of disks, and print out the right order to move all disks from peg1 to peg3.\n",
    "\n",
    "Hint: You may want to use a recursive function with following 4 parameters:\n",
    "\n",
    "    a)\tThe number of disks to be moved\n",
    "    b)\tThe peg on which these disks are initially threaded\n",
    "    c)\tThe peg to which this stack of disks is to be moved\n",
    "    d)\tThe peg to be used as a temporary holding area\n",
    "\n"
   ]
  },
  {
   "cell_type": "code",
   "execution_count": 4,
   "metadata": {},
   "outputs": [
    {
     "name": "stdout",
     "output_type": "stream",
     "text": [
      "1 -> 2\n",
      "1 -> 3\n",
      "2 -> 3\n",
      "1 -> 2\n",
      "3 -> 1\n",
      "3 -> 2\n",
      "1 -> 2\n",
      "1 -> 3\n",
      "2 -> 3\n",
      "2 -> 1\n",
      "3 -> 1\n",
      "2 -> 3\n",
      "1 -> 2\n",
      "1 -> 3\n",
      "2 -> 3\n"
     ]
    }
   ],
   "source": [
    "# Q5_1\n",
    "\n",
    "# maybe you can declare more functions?\n",
    "def replace(x,m,n,l):\n",
    "    if x ==1:\n",
    "        print(m,\"->\",n)   \n",
    "    elif x > 1:\n",
    "        replace(x-1,m,l,n)\n",
    "        replace(1,m,n,l)\n",
    "        replace(x-1,l,n,m) \n",
    "def hanoi_recursive(N):\n",
    "    # use recursive way to solve this problem \n",
    "    if N == 1:\n",
    "        print(\"1 -> 3\")\n",
    "        #replace(N-1,2,3,1)\n",
    "    else:\n",
    "        replace(N-1,1,2,3)\n",
    "        hanoi_recursive(1)\n",
    "        replace(N-1,2,3,1)\n",
    "hanoi_recursive(4)"
   ]
  },
  {
   "cell_type": "markdown",
   "metadata": {},
   "source": [
    "### <span style=\"color:red\">Q7_2 (Bonus)</span>  Towers of Hanoi -- Iterative Version\n",
    "\n",
    "Any program that can be implemented recursively can also be implemented iteratively, although sometimes with more difficulty and less clarity.\n",
    "\n",
    "Try writing an iterative version of solution to the Towers of Hanoi problem.\n",
    "\n",
    "Please write a function:\n",
    "\n",
    "    hanoi_iterative(N)\n",
    "\n",
    "where N is the number of disks, and print out the right order to move all disks from peg1 to peg3."
   ]
  },
  {
   "cell_type": "code",
   "execution_count": 17,
   "metadata": {},
   "outputs": [
    {
     "name": "stdout",
     "output_type": "stream",
     "text": [
      "1 -> 2\n",
      "1 -> 3\n",
      "2 -> 3\n",
      "1 -> 2\n",
      "3 -> 1\n",
      "3 -> 2\n",
      "1 -> 2\n",
      "1 -> 3\n",
      "2 -> 3\n",
      "2 -> 1\n",
      "3 -> 1\n",
      "2 -> 3\n",
      "1 -> 2\n",
      "1 -> 3\n",
      "2 -> 3\n"
     ]
    }
   ],
   "source": [
    "# Q5_2 (Bonus)\n",
    "\n",
    "def hanoi_iterative(N):\n",
    "    # use iterative way to solve this problem\n",
    "    if N%2 == 1:\n",
    "        for i in range(1,N+1):\n",
    "            if i % 2 == 0:\n",
    "                replace(1,1,2,3)\n",
    "                replace(i-1,3,2,1)\n",
    "            else:\n",
    "                replace(i,1,3,2)\n",
    "                replace(i-1,2,3,1)\n",
    "    else:\n",
    "        for i in range(1,N+1):\n",
    "            if i % 2 ==0:\n",
    "                replace(1,1,3,2)\n",
    "                replace(i-1,2,3,1)\n",
    "            else:\n",
    "                replace(1,1,2,3)\n",
    "                replace(i-1,3,2,1)\n",
    "hanoi_iterative(4)"
   ]
  },
  {
   "cell_type": "code",
   "execution_count": null,
   "metadata": {},
   "outputs": [],
   "source": []
  }
 ],
 "metadata": {
  "kernelspec": {
   "display_name": "Python 3",
   "language": "python",
   "name": "python3"
  },
  "language_info": {
   "codemirror_mode": {
    "name": "ipython",
    "version": 3
   },
   "file_extension": ".py",
   "mimetype": "text/x-python",
   "name": "python",
   "nbconvert_exporter": "python",
   "pygments_lexer": "ipython3",
   "version": "3.7.3"
  }
 },
 "nbformat": 4,
 "nbformat_minor": 2
}
